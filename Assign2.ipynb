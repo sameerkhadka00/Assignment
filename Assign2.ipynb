{
  "nbformat": 4,
  "nbformat_minor": 0,
  "metadata": {
    "colab": {
      "provenance": [],
      "name": "Assign2.ipynb",
      "authorship_tag": "ABX9TyOrExz6R6Y1kTRV/F9VjVqb",
      "include_colab_link": true
    },
    "kernelspec": {
      "name": "python3",
      "display_name": "Python 3"
    },
    "language_info": {
      "name": "python"
    }
  },
  "cells": [
    {
      "cell_type": "markdown",
      "metadata": {
        "id": "view-in-github",
        "colab_type": "text"
      },
      "source": [
        "<a href=\"https://colab.research.google.com/github/sameerkhadka00/Assignment/blob/main/Assign2.ipynb\" target=\"_parent\"><img src=\"https://colab.research.google.com/assets/colab-badge.svg\" alt=\"Open In Colab\"/></a>"
      ]
    },
    {
      "cell_type": "code",
      "execution_count": null,
      "metadata": {
        "id": "kdvJ1YlMNIQq",
        "colab": {
          "base_uri": "https://localhost:8080/"
        },
        "outputId": "efb24b21-9e33-4f12-d7cb-a14070e17797"
      },
      "outputs": [
        {
          "output_type": "stream",
          "name": "stdout",
          "text": [
            "Encoded Data: 000000111101000111000111011011110101000110111111010100\n",
            "Error detected!\n"
          ]
        }
      ],
      "source": [
        "#Answer of 1\n",
        "def crc_encode(data, poly):\n",
        "    n = len(bin(poly)) - 3\n",
        "    data = int(data, 2) << n\n",
        "    divisor = poly << (n - 1)\n",
        "    mask = 1 << (n + 4)\n",
        "    dividend = data << 4\n",
        "\n",
        "    for _ in range(n + 4):\n",
        "        if dividend & mask:\n",
        "            dividend ^= divisor\n",
        "        divisor >>= 1\n",
        "        mask >>= 1\n",
        "\n",
        "    return format((data | dividend) >> 4, f'0{len(bin(data)) + n}b')[4:]\n",
        "\n",
        "def crc_decode(received, poly):\n",
        "    n = len(bin(poly)) - 3\n",
        "    received = int(received, 2)\n",
        "    divisor = poly << (n - 1)\n",
        "    mask = 1 << (n + 4)\n",
        "    dividend = received << 4\n",
        "\n",
        "    for _ in range(n + 4):\n",
        "        if dividend & mask:\n",
        "            dividend ^= divisor\n",
        "        divisor >>= 1\n",
        "        mask >>= 1\n",
        "\n",
        "    return bin(dividend)[-n-4:].zfill(n+4) == '0' * (n + 4)\n",
        "\n",
        "\n",
        "# Example usage\n",
        "d = '1101'  # 4-bit binary data\n",
        "p = 0x04C11DB7  # CRC-32 polynomial\n",
        "\n",
        "e = crc_encode(d, p)\n",
        "print(f'Encoded Data: {e}')\n",
        "\n",
        "r = e  # Simulating received data\n",
        "\n",
        "error_detected = not crc_decode(r, p)\n",
        "\n",
        "if error_detected:\n",
        "    print('Error detected!')\n",
        "else:\n",
        "    print('No error detected.')"
      ]
    },
    {
      "cell_type": "code",
      "source": [
        "#Answer of 2\n",
        "def hamming_encode(data):\n",
        "    m = len(data)\n",
        "    k = 1\n",
        "    while 2**k < m + k + 1:\n",
        "        k += 1\n",
        "\n",
        "    parity_positions = [2**i for i in range(k)]\n",
        "\n",
        "    encoded_data = [0] * (m + k)\n",
        "    j = 0\n",
        "    for i in range(1, m + k + 1):\n",
        "        if i not in parity_positions:\n",
        "            encoded_data[i - 1] = int(data[j])\n",
        "            j += 1\n",
        "\n",
        "    for i in range(k):\n",
        "        mask = 2**i\n",
        "        ones_count = sum(encoded_data[j - 1] for j in range(1, m + k + 1) if j & mask)\n",
        "        encoded_data[parity_positions[i] - 1] = ones_count % 2\n",
        "\n",
        "    return ''.join(map(str, encoded_data))\n",
        "\n",
        "original_data = '1001'\n",
        "encoded_data = hamming_encode(original_data)\n",
        "print(f'Encoded Data: {encoded_data}')\n",
        "\n",
        "\n",
        "# checking the bit position for extra parity\n",
        "def calculate_parity_positions(k):\n",
        "    return [2**i for i in range(k)]\n",
        "\n",
        "num_parity_bits = 4\n",
        "parity_positions = calculate_parity_positions(num_parity_bits)\n",
        "\n",
        "print(f\"The positions of the extra parity bits for k={num_parity_bits} are: {parity_positions}\")\n",
        "\n",
        "\n",
        "# creating a table\n",
        "def p(encoded_data, pos):\n",
        "    mask = 2**pos\n",
        "    covered_bits = [int(encoded_data[i - 1]) for i in range(1, len(encoded_data) + 1) if i & mask]\n",
        "    return sum(covered_bits) % 2\n",
        "\n",
        "def h(data):\n",
        "    m = len(data)\n",
        "    k = 1\n",
        "    while 2**k < m + k + 1:\n",
        "        k += 1\n",
        "\n",
        "    p_positions = [2**i for i in range(k)]\n",
        "\n",
        "    encoded_data = [0] * (m + k)\n",
        "    j = 0\n",
        "\n",
        "    for i in range(1, m + k + 1):\n",
        "        if i not in p_positions:\n",
        "            encoded_data[i - 1] = int(data[j])\n",
        "            j += 1\n",
        "\n",
        "    for i in range(k):\n",
        "        encoded_data[p_positions[i] - 1] = p(encoded_data, i)\n",
        "\n",
        "    return encoded_data\n",
        "\n",
        "def t(data, encoded_data):\n",
        "    m = len(data)\n",
        "    k = len(encoded_data) - m\n",
        "\n",
        "    print(\"Original Data   |  Parity Bits  |  Encoded Data\")\n",
        "    print(\"-\" * 45)\n",
        "\n",
        "    j = 0\n",
        "    for i in range(1, m + k + 1):\n",
        "        if i not in [2**x for x in range(k)]:\n",
        "            print(f\"       {data[j]}        |               |       {encoded_data[i-1]}\")\n",
        "            j += 1\n",
        "        else:\n",
        "            print(\"                 |       {}       |\".format(encoded_data[i-1]))\n",
        "\n",
        "o = '1001'\n",
        "e = h(o)\n",
        "t(o, e)\n"
      ],
      "metadata": {
        "colab": {
          "base_uri": "https://localhost:8080/"
        },
        "id": "IRFJaInqOA0V",
        "outputId": "6b0798ce-a7b4-4ff2-d3e6-3ab3733dfe3b"
      },
      "execution_count": null,
      "outputs": [
        {
          "output_type": "stream",
          "name": "stdout",
          "text": [
            "Encoded Data: 0011001\n",
            "The positions of the extra parity bits for k=4 are: [1, 2, 4, 8]\n",
            "Original Data   |  Parity Bits  |  Encoded Data\n",
            "---------------------------------------------\n",
            "                 |       0       |\n",
            "                 |       0       |\n",
            "       1        |               |       1\n",
            "                 |       1       |\n",
            "       0        |               |       0\n",
            "       0        |               |       0\n",
            "       1        |               |       1\n"
          ]
        }
      ]
    }
  ]
}
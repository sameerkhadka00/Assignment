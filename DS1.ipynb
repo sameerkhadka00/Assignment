{
  "nbformat": 4,
  "nbformat_minor": 0,
  "metadata": {
    "colab": {
      "provenance": [],
      "authorship_tag": "ABX9TyNBnuSCHnu9ThLR/n3w4d3O",
      "include_colab_link": true
    },
    "kernelspec": {
      "name": "python3",
      "display_name": "Python 3"
    },
    "language_info": {
      "name": "python"
    }
  },
  "cells": [
    {
      "cell_type": "markdown",
      "metadata": {
        "id": "view-in-github",
        "colab_type": "text"
      },
      "source": [
        "<a href=\"https://colab.research.google.com/github/sameerkhadka00/Assignment/blob/main/DS1.ipynb\" target=\"_parent\"><img src=\"https://colab.research.google.com/assets/colab-badge.svg\" alt=\"Open In Colab\"/></a>"
      ]
    },
    {
      "cell_type": "code",
      "execution_count": 1,
      "metadata": {
        "id": "d3dfUbavMP6-",
        "colab": {
          "base_uri": "https://localhost:8080/"
        },
        "outputId": "4f22a5de-7281-4176-aca6-5fbe82931ddc"
      },
      "outputs": [
        {
          "output_type": "stream",
          "name": "stdout",
          "text": [
            "Created Linked List: \n",
            "3 1 2 1 \n",
            "Linked List after Deletion of 1: \n",
            "3 2 "
          ]
        }
      ],
      "source": [
        "#Answer of 1\n",
        "class Node:\n",
        "    def __init__(self, data):\n",
        "        self.data = data\n",
        "        self.next = None\n",
        "\n",
        "class LinkedList:\n",
        "    def __init__(self):\n",
        "        self.head = None\n",
        "\n",
        "    def delete_node(self, key):\n",
        "        temp = self.head\n",
        "        prev = None\n",
        "        while temp:\n",
        "            if temp.data == key:\n",
        "                if prev:\n",
        "                    prev.next = temp.next\n",
        "                else:\n",
        "                    self.head = temp.next\n",
        "            prev = temp\n",
        "            temp = temp.next\n",
        "\n",
        "    def push(self, new_data):\n",
        "        new_node = Node(new_data)\n",
        "        new_node.next = self.head\n",
        "        self.head = new_node\n",
        "\n",
        "    def print_list(self):\n",
        "        temp = self.head\n",
        "        while temp:\n",
        "            print(temp.data, end=' ')\n",
        "            temp = temp.next\n",
        "\n",
        "if __name__ == '__main__':\n",
        "    llist = LinkedList()\n",
        "    llist.push(1)\n",
        "    llist.push(2)\n",
        "    llist.push(1)\n",
        "    llist.push(3)\n",
        "    print(\"Created Linked List: \")\n",
        "    llist.print_list()\n",
        "    llist.delete_node(1)\n",
        "    print(\"\\nLinked List after Deletion of 1: \")\n",
        "    llist.print_list()\n"
      ]
    },
    {
      "cell_type": "code",
      "source": [
        "#Answer of 2\n",
        "class Node:\n",
        "    def __init__(self, data):\n",
        "        self.data = data\n",
        "        self.next = None\n",
        "\n",
        "class LinkedList:\n",
        "    def __init__(self):\n",
        "        self.head = None\n",
        "\n",
        "    def delete_duplicates(self):\n",
        "        current = self.head\n",
        "        prev = None\n",
        "        duplicate = {}\n",
        "        while current:\n",
        "            if current.data in duplicate:\n",
        "                prev.next = current.next\n",
        "                current = None\n",
        "            else:\n",
        "                duplicate[current.data] = 1\n",
        "                prev = current\n",
        "            current = prev.next\n",
        "\n",
        "    def push(self, new_data):\n",
        "        new_node = Node(new_data)\n",
        "        new_node.next = self.head\n",
        "        self.head = new_node\n",
        "\n",
        "    def print_list(self):\n",
        "        temp = self.head\n",
        "        while temp:\n",
        "            print(temp.data, end=' ')\n",
        "            temp = temp.next\n",
        "\n",
        "if __name__ == '__main__':\n",
        "    llist = LinkedList()\n",
        "    llist.push(1)\n",
        "    llist.push(2)\n",
        "    llist.push(1)\n",
        "    llist.push(3)\n",
        "    llist.push(2)\n",
        "    print(\"Linked List elements before deletion: \")\n",
        "    llist.print_list()\n",
        "    llist.delete_duplicates()\n",
        "    print(\"\\nLinked List elements after deletion: \")\n",
        "    llist.print_list()\n",
        "\n"
      ],
      "metadata": {
        "id": "0lUsvuUeMkpT",
        "colab": {
          "base_uri": "https://localhost:8080/"
        },
        "outputId": "b67e4542-74c6-44fb-96ab-a2c72386da36"
      },
      "execution_count": 8,
      "outputs": [
        {
          "output_type": "stream",
          "name": "stdout",
          "text": [
            "Linked List elements before deletion: \n",
            "2 3 1 2 1 \n",
            "Linked List elements after deletion: \n",
            "2 3 1 "
          ]
        }
      ]
    },
    {
      "cell_type": "code",
      "source": [
        "#Answer of 3\n",
        "class Node:\n",
        "    def __init__(self, data):\n",
        "        self.data = data\n",
        "        self.next = None\n",
        "\n",
        "class LinkedList:\n",
        "    def __init__(self):\n",
        "        self.head = None\n",
        "\n",
        "    def delete_duplicates(self):\n",
        "        hash_table = {}\n",
        "        current = self.head\n",
        "        prev = None\n",
        "        while current:\n",
        "            if current.data in hash_table:\n",
        "                prev.next = current.next\n",
        "            else:\n",
        "                hash_table[current.data] = 1\n",
        "                prev = current\n",
        "            current = current.next\n",
        "\n",
        "    def push(self, new_data):\n",
        "        new_node = Node(new_data)\n",
        "        new_node.next = self.head\n",
        "        self.head = new_node\n",
        "\n",
        "    def print_list(self):\n",
        "        temp = self.head\n",
        "        while temp:\n",
        "            print(temp.data, end=' ')\n",
        "            temp = temp.next\n",
        "\n",
        "if __name__ == '__main__':\n",
        "    llist = LinkedList()\n",
        "    llist.push(1)\n",
        "    llist.push(2)\n",
        "    llist.push(1)\n",
        "    llist.push(3)\n",
        "    llist.push(2)\n",
        "    print(\"Created Linked List: \")\n",
        "    llist.print_list()\n",
        "    llist.delete_duplicates()\n",
        "    print(\"\\nLinked List after removing duplicates: \")\n",
        "    llist.print_list()\n"
      ],
      "metadata": {
        "id": "3lkyeD-NM0PV",
        "colab": {
          "base_uri": "https://localhost:8080/"
        },
        "outputId": "a0e0342b-eb72-4832-ca89-d50217da8950"
      },
      "execution_count": 5,
      "outputs": [
        {
          "output_type": "stream",
          "name": "stdout",
          "text": [
            "Created Linked List: \n",
            "2 3 1 2 1 \n",
            "Linked List after removing duplicates: \n",
            "2 3 1 "
          ]
        }
      ]
    },
    {
      "cell_type": "code",
      "source": [
        "#Answer of 4\n",
        "class Node:\n",
        "    def __init__(self, data):\n",
        "        self.data = data\n",
        "        self.next = None\n",
        "\n",
        "class LinkedList:\n",
        "    def __init__(self):\n",
        "        self.head = None\n",
        "\n",
        "    def reverse(self):\n",
        "        prev = None\n",
        "        current = self.head\n",
        "        while current:\n",
        "            next = current.next\n",
        "            current.next = prev\n",
        "            prev = current\n",
        "            current = next\n",
        "        self.head = prev\n",
        "\n",
        "    def push(self, new_data):\n",
        "        new_node = Node(new_data)\n",
        "        new_node.next = self.head\n",
        "        self.head = new_node\n",
        "\n",
        "    def print_list(self):\n",
        "        temp = self.head\n",
        "        while temp:\n",
        "            print(temp.data, end=' ')\n",
        "            temp = temp.next\n",
        "\n",
        "if __name__ == '__main__':\n",
        "    llist = LinkedList()\n",
        "    llist.push(1)\n",
        "    llist.push(2)\n",
        "    llist.push(3)\n",
        "    print(\"Created Linked List: \")\n",
        "    llist.print_list()\n",
        "    llist.reverse()\n",
        "    print(\"\\nReversed Linked List: \")\n",
        "    llist.print_list()\n",
        "\n"
      ],
      "metadata": {
        "id": "T3RGzENHNAjB",
        "colab": {
          "base_uri": "https://localhost:8080/"
        },
        "outputId": "8e1cfed8-c2ce-4559-b7c6-624f78c51068"
      },
      "execution_count": 6,
      "outputs": [
        {
          "output_type": "stream",
          "name": "stdout",
          "text": [
            "Created Linked List: \n",
            "3 2 1 \n",
            "Reversed Linked List: \n",
            "1 2 3 "
          ]
        }
      ]
    },
    {
      "cell_type": "code",
      "source": [
        "#Answer of 5\n",
        "class Node:\n",
        "    def __init__(self, data):\n",
        "        self.data = data\n",
        "        self.next = None\n",
        "\n",
        "class LinkedList:\n",
        "    def __init__(self):\n",
        "        self.head = None\n",
        "\n",
        "    def average(self):\n",
        "        current = self.head\n",
        "        sum = 0\n",
        "        count = 0\n",
        "        while current:\n",
        "            sum += current.data\n",
        "            count += 1\n",
        "            current = current.next\n",
        "        return sum / count\n",
        "\n",
        "    def push(self, new_data):\n",
        "        new_node = Node(new_data)\n",
        "        new_node.next = self.head\n",
        "        self.head = new_node\n",
        "\n",
        "    def print_list(self):\n",
        "        temp = self.head\n",
        "        while temp:\n",
        "            print(temp.data, end=' ')\n",
        "            temp = temp.next\n",
        "\n",
        "if __name__ == '__main__':\n",
        "    llist = LinkedList()\n",
        "    llist.push(1)\n",
        "    llist.push(2)\n",
        "    llist.push(3)\n",
        "    print(\"Linked List elements: \")\n",
        "    llist.print_list()\n",
        "    average = llist.average()\n",
        "    print(\"\\nAverage of elements in the linked list:\", average)\n",
        "\n"
      ],
      "metadata": {
        "id": "xitwLOrKNESt",
        "colab": {
          "base_uri": "https://localhost:8080/"
        },
        "outputId": "815099a6-9f2c-4e56-9b7b-a3d4b5b2c98b"
      },
      "execution_count": 7,
      "outputs": [
        {
          "output_type": "stream",
          "name": "stdout",
          "text": [
            "Linked List elements: \n",
            "3 2 1 \n",
            "Average of elements in the linked list: 2.0\n"
          ]
        }
      ]
    },
    {
      "cell_type": "code",
      "source": [
        "\n",
        "\n",
        "\n"
      ],
      "metadata": {
        "id": "yF3I6JfvNePS"
      },
      "execution_count": null,
      "outputs": []
    }
  ]
}
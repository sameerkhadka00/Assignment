{
  "nbformat": 4,
  "nbformat_minor": 0,
  "metadata": {
    "colab": {
      "provenance": [],
      "authorship_tag": "ABX9TyMF/Xct+G13VPNwtJwqLtkD",
      "include_colab_link": true
    },
    "kernelspec": {
      "name": "python3",
      "display_name": "Python 3"
    },
    "language_info": {
      "name": "python"
    }
  },
  "cells": [
    {
      "cell_type": "markdown",
      "metadata": {
        "id": "view-in-github",
        "colab_type": "text"
      },
      "source": [
        "<a href=\"https://colab.research.google.com/github/sameerkhadka00/Assignment/blob/main/DS1.ipynb\" target=\"_parent\"><img src=\"https://colab.research.google.com/assets/colab-badge.svg\" alt=\"Open In Colab\"/></a>"
      ]
    },
    {
      "cell_type": "code",
      "execution_count": 2,
      "metadata": {
        "id": "d3dfUbavMP6-"
      },
      "outputs": [],
      "source": [
        "#Answer of 1\n",
        "class Node:\n",
        "    def __init__(self, data):\n",
        "        self.data = data  # data stored in the node\n",
        "        self.next = None   # reference to the next node in the list\n",
        "\n",
        "class LinkedList:\n",
        "    def __init__(self):\n",
        "        self.head = None   # reference to the head node of the list\n",
        "\n",
        "    def delete_linked_list_node(self, key):\n",
        "        current = self.head  # start at the head of the list\n",
        "        previous = None      # initialize a variable to keep track of the previous node\n",
        "        while current:\n",
        "            if current.data == key:\n",
        "                # if the current node has the key value, delete it\n",
        "                if previous:\n",
        "                    # if there is a previous node, update its next pointer to skip over the current node\n",
        "                    previous.next = current.next\n",
        "                else:\n",
        "                    # if there is no previous node, update the head to be the next node\n",
        "                    self.head = current.next\n",
        "            else:\n",
        "                # if the current node does not have the key value, update the previous node to be the current node\n",
        "                previous = current\n",
        "            current = current.next\n"
      ]
    },
    {
      "cell_type": "code",
      "source": [
        "#Answer of 2\n",
        "class Node:\n",
        "    def __init__(self, data):\n",
        "        self.data = data\n",
        "        self.next = None\n",
        "\n",
        "class LinkedList:\n",
        "    def __init__(self):\n",
        "        self.head = None\n",
        "\n",
        "    def delete_node_value(self):\n",
        "        current = self.head\n",
        "        values = set()\n",
        "        previous = None\n",
        "        while current:\n",
        "            if current.data in values:\n",
        "                previous.next = current.next\n",
        "            else:\n",
        "                values.add(current.data)\n",
        "                previous = current\n",
        "            current = current.next\n"
      ],
      "metadata": {
        "id": "0lUsvuUeMkpT"
      },
      "execution_count": 3,
      "outputs": []
    },
    {
      "cell_type": "code",
      "source": [
        "#Answer of 3\n",
        "class Node:\n",
        "    def __init__(self, data):\n",
        "        self.data = data\n",
        "        self.next = None\n",
        "\n",
        "class LinkedList:\n",
        "    def __init__(self):\n",
        "        self.head = None\n",
        "\n",
        "    def delete_dupl_node(self):\n",
        "        current = self.head\n",
        "        values = set()\n",
        "        previous = None\n",
        "        while current:\n",
        "            if current.data in values:\n",
        "                previous.next = current.next\n",
        "            else:\n",
        "                values.add(current.data)\n",
        "                previous = current\n",
        "            current = current.next\n"
      ],
      "metadata": {
        "id": "3lkyeD-NM0PV"
      },
      "execution_count": 4,
      "outputs": []
    },
    {
      "cell_type": "code",
      "source": [
        "#Answer of 4\n",
        "class Node:\n",
        "    def __init__(self, data):\n",
        "        self.data = data\n",
        "        self.next = None\n",
        "\n",
        "class LinkedList:\n",
        "    def __init__(self):\n",
        "        self.head = None\n",
        "\n",
        "    def reverse_node(self):\n",
        "        previous = None\n",
        "        current = self.head\n",
        "        while current:\n",
        "            next_node = current.next\n",
        "            current.next = previous\n",
        "            previous = current\n",
        "            current = next_node\n",
        "        self.head = previous\n"
      ],
      "metadata": {
        "id": "T3RGzENHNAjB"
      },
      "execution_count": 5,
      "outputs": []
    },
    {
      "cell_type": "code",
      "source": [
        "#Answer of 5\n",
        "class Node:\n",
        "    def __init__(self, data):\n",
        "        self.data = data\n",
        "        self.next = None\n",
        "\n",
        "class LinkedList:\n",
        "    def __init__(self):\n",
        "        self.head = None\n",
        "\n",
        "    def average_list(self):\n",
        "        current = self.head\n",
        "        sum = 0\n",
        "        count = 0\n",
        "        while current:\n",
        "            sum += current.data\n",
        "            count += 1\n",
        "            current = current.next\n",
        "        return sum / count\n"
      ],
      "metadata": {
        "id": "xitwLOrKNESt"
      },
      "execution_count": 6,
      "outputs": []
    },
    {
      "cell_type": "code",
      "source": [
        "\n",
        "\n",
        "\n"
      ],
      "metadata": {
        "id": "yF3I6JfvNePS"
      },
      "execution_count": 7,
      "outputs": []
    }
  ]
}
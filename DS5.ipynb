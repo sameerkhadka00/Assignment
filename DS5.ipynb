{
  "nbformat": 4,
  "nbformat_minor": 0,
  "metadata": {
    "colab": {
      "provenance": [],
      "authorship_tag": "ABX9TyPGp3bJKSo+TIekccjf1e8f",
      "include_colab_link": true
    },
    "kernelspec": {
      "name": "python3",
      "display_name": "Python 3"
    },
    "language_info": {
      "name": "python"
    }
  },
  "cells": [
    {
      "cell_type": "markdown",
      "metadata": {
        "id": "view-in-github",
        "colab_type": "text"
      },
      "source": [
        "<a href=\"https://colab.research.google.com/github/sameerkhadka00/Assignment/blob/main/DS5.ipynb\" target=\"_parent\"><img src=\"https://colab.research.google.com/assets/colab-badge.svg\" alt=\"Open In Colab\"/></a>"
      ]
    },
    {
      "cell_type": "code",
      "execution_count": 45,
      "metadata": {
        "id": "xIiGx6CAT-Jl",
        "colab": {
          "base_uri": "https://localhost:8080/"
        },
        "outputId": "39f34dff-dd75-4b23-edf9-5ea92aa019ce"
      },
      "outputs": [
        {
          "output_type": "stream",
          "name": "stdout",
          "text": [
            "['t', 's', 'r', 'o']\n"
          ]
        }
      ],
      "source": [
        "#Answer of 1\n",
        "def srt(stk):\n",
        "    temp_stk = []\n",
        "    while len(stk) > 0:\n",
        "        # pop top element from original stack\n",
        "        curr = stk.pop()\n",
        "        # if temporary stack is not empty and top element is greater than current element\n",
        "        while len(temp_stk) > 0 and temp_stk[-1] > curr:\n",
        "            # pop top element from temporary stack and push onto original stack\n",
        "            stk.append(temp_stk.pop())\n",
        "        # push current element onto temporary stack\n",
        "        temp_stk.append(curr)\n",
        "    # copy elements from temporary stack to original stack\n",
        "    while len(temp_stk) > 0:\n",
        "        stk.append(temp_stk.pop())\n",
        "\n",
        "stk = ['t', 'r', 'o', 's']\n",
        "srt(stk)\n",
        "print(stk)\n"
      ]
    },
    {
      "cell_type": "code",
      "source": [
        "def simplify_expression(expression):\n",
        "    stack = []\n",
        "    result = \"\"\n",
        "    for char in expression:\n",
        "        if char == \" \":\n",
        "            continue\n",
        "        elif char == \"(\":\n",
        "            stack.append(char)\n",
        "        elif char == \")\":\n",
        "            while stack[-1] != \"(\":\n",
        "                result += stack.pop()\n",
        "            stack.pop()\n",
        "        elif char in \"+-\":\n",
        "            while len(stack) > 0 and stack[-1] not in \"()\":\n",
        "                top1 = stack.pop()\n",
        "                top2 = \"\"\n",
        "                if len(stack) > 0 and stack[-1] not in \"()\":\n",
        "                    top2 = stack.pop()\n",
        "                result += top2 + top1 + char\n",
        "            stack.append(char)\n",
        "        else:\n",
        "            result += char\n",
        "    while len(stack) > 0:\n",
        "        result += stack.pop()\n",
        "    return result\n",
        "\n",
        "expression = \"x - (y - z - (u+v) ) - w\"\n",
        "new_expression = simplify_expression(expression)\n",
        "print(new_expression)\n",
        "\n"
      ],
      "metadata": {
        "colab": {
          "base_uri": "https://localhost:8080/"
        },
        "id": "Q4wLQJnEDzRx",
        "outputId": "f7699f31-f6a5-4ac4-a33f-8e9fe9490a1c"
      },
      "execution_count": 48,
      "outputs": [
        {
          "output_type": "stream",
          "name": "stdout",
          "text": [
            "xyz--uv+---w-\n"
          ]
        }
      ]
    },
    {
      "cell_type": "code",
      "source": [
        "#Answer of 2\n",
        "def next_bigger(stack):\n",
        "    result = {}\n",
        "    temp_stack = []\n",
        "\n",
        "    while len(stack) > 0:\n",
        "        curr = stack.pop()\n",
        "        while len(temp_stack) > 0 and temp_stack[-1] <= curr:\n",
        "            temp_stack.pop()\n",
        "\n",
        "        if len(temp_stack) == 0:\n",
        "            result[curr] = None\n",
        "        else:\n",
        "            result[curr] = temp_stack[-1]\n",
        "\n",
        "        temp_stack.append(curr)\n",
        "\n",
        "    return result\n",
        "stack = [5, 3, 2, 10, 6, 8, 1, 4, 12, 7, 4]\n",
        "result = next_bigger(stack)\n",
        "print(result)\n"
      ],
      "metadata": {
        "colab": {
          "base_uri": "https://localhost:8080/"
        },
        "id": "YOYpHodV-faD",
        "outputId": "8c8f0562-ba29-4bfd-9181-19f8b2c5c385"
      },
      "execution_count": 18,
      "outputs": [
        {
          "output_type": "stream",
          "name": "stdout",
          "text": [
            "{4: 12, 7: None, 12: None, 1: 4, 8: 12, 6: 8, 10: 12, 2: 10, 3: 10, 5: 10}\n"
          ]
        }
      ]
    },
    {
      "cell_type": "code",
      "source": [
        "#Answer of 3\n",
        "def check_consecutive_pairs(stack):\n",
        "    temp_stack = []\n",
        "    pairs = []\n",
        "\n",
        "    while len(stack) > 0:\n",
        "        curr = stack.pop()\n",
        "        if len(temp_stack) > 0 and curr + 1 == temp_stack[-1]:\n",
        "            pairs.append((curr, temp_stack.pop()))\n",
        "        else:\n",
        "            temp_stack.append(curr)\n",
        "\n",
        "    if len(temp_stack) > 0:\n",
        "        return False\n",
        "    else:\n",
        "        for pair in pairs:\n",
        "            print(f\"{pair[0]} and {pair[1]} form a consecutive pair\")\n",
        "        return True\n",
        "stack = [4, 5, 6, 7, 9, 10]\n",
        "result = check_consecutive_pairs(stack)\n",
        "print(result)\n"
      ],
      "metadata": {
        "colab": {
          "base_uri": "https://localhost:8080/"
        },
        "id": "69icJ-4S_g85",
        "outputId": "d3efdcf3-539f-4bb6-bbff-b1b24fde3c1e"
      },
      "execution_count": 21,
      "outputs": [
        {
          "output_type": "stream",
          "name": "stdout",
          "text": [
            "9 and 10 form a consecutive pair\n",
            "6 and 7 form a consecutive pair\n",
            "4 and 5 form a consecutive pair\n",
            "True\n"
          ]
        }
      ]
    }
  ]
}
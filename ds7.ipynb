{
  "nbformat": 4,
  "nbformat_minor": 0,
  "metadata": {
    "colab": {
      "provenance": [],
      "authorship_tag": "ABX9TyPoBYkM0Y4Qp3BR4pxdPy0W",
      "include_colab_link": true
    },
    "kernelspec": {
      "name": "python3",
      "display_name": "Python 3"
    },
    "language_info": {
      "name": "python"
    }
  },
  "cells": [
    {
      "cell_type": "markdown",
      "metadata": {
        "id": "view-in-github",
        "colab_type": "text"
      },
      "source": [
        "<a href=\"https://colab.research.google.com/github/sameerkhadka00/Assignment/blob/main/ds7.ipynb\" target=\"_parent\"><img src=\"https://colab.research.google.com/assets/colab-badge.svg\" alt=\"Open In Colab\"/></a>"
      ]
    },
    {
      "cell_type": "code",
      "execution_count": null,
      "metadata": {
        "colab": {
          "base_uri": "https://localhost:8080/"
        },
        "id": "VdDdoMzXnvey",
        "outputId": "1b779cd9-e573-4ef9-b1a9-f33794ea70ed"
      },
      "outputs": [
        {
          "output_type": "stream",
          "name": "stdout",
          "text": [
            "1\n",
            "2\n",
            "3\n",
            "12\n",
            "15\n",
            "18\n"
          ]
        }
      ],
      "source": [
        "#Answer of 1\n",
        "class TreeNode:\n",
        "    def __init__(self, value=0, left=None, right=None):\n",
        "        self.val = value\n",
        "        self.left = left\n",
        "        self.right = right\n",
        "\n",
        "def triple_leaves(root: TreeNode) -> None:\n",
        "    if not root:\n",
        "        return\n",
        "    \n",
        "    if not root.left and not root.right:\n",
        "        root.val *= 3\n",
        "    else:\n",
        "        triple_leaves(root.left)\n",
        "        triple_leaves(root.right)\n",
        "# Sample binary tree\n",
        "#         1\n",
        "#        / \\\n",
        "#       2   3\n",
        "#      / \\   \\\n",
        "#     4   5   6\n",
        "\n",
        "root = TreeNode(1)\n",
        "root.left = TreeNode(2)\n",
        "root.right = TreeNode(3)\n",
        "root.left.left = TreeNode(4)\n",
        "root.left.right = TreeNode(5)\n",
        "root.right.right = TreeNode(6)\n",
        "\n",
        "triple_leaves(root)\n",
        "print(root.val)  # Output: 1\n",
        "print(root.left.val)  # Output: 6\n",
        "print(root.right.val)  # Output: 3\n",
        "print(root.left.left.val)  # Output: 12\n",
        "print(root.left.right.val)  # Output: 15\n",
        "print(root.right.right.val)  # O\n",
        "\n"
      ]
    },
    {
      "cell_type": "code",
      "source": [
        "class TreeNode:\n",
        "    def __init__(self, val=0, left=None, right=None):\n",
        "        self.val = val\n",
        "        self.left = left\n",
        "        self.right = right\n",
        "\n",
        "class FibonacciTree:\n",
        "    def __init__(self, n):\n",
        "        self.n = n\n",
        "\n",
        "    def build_tree(self):\n",
        "        if self.n == 0:\n",
        "            return None\n",
        "        elif self.n == 1:\n",
        "            return TreeNode(0)\n",
        "        elif self.n == 2:\n",
        "            return TreeNode(1)\n",
        "        else:\n",
        "            left = FibonacciTree(self.n - 1).build_tree()\n",
        "            right = FibonacciTree(self.n - 2).build_tree()\n",
        "            value = left.val + right.val\n",
        "            return TreeNode(value, left, right)\n",
        "def print_tree_preorder(root):\n",
        "    if root:\n",
        "        print(root.val)\n",
        "        print_tree_preorder(root.left)\n",
        "        print_tree_preorder(root.right)\n",
        "\n",
        "print_tree_preorder(root)\n"
      ],
      "metadata": {
        "id": "WzBQdWDYphfC",
        "colab": {
          "base_uri": "https://localhost:8080/"
        },
        "outputId": "ebd57abd-2e2b-4368-d5a6-60abf1d7ccdd"
      },
      "execution_count": 5,
      "outputs": [
        {
          "output_type": "stream",
          "name": "stdout",
          "text": [
            "5\n",
            "3\n",
            "2\n",
            "1\n",
            "1\n",
            "0\n",
            "1\n",
            "1\n",
            "1\n",
            "0\n",
            "2\n",
            "1\n",
            "1\n",
            "0\n",
            "1\n"
          ]
        }
      ]
    },
    {
      "cell_type": "code",
      "source": [
        "#Answer of 3\n",
        "class TreeNode:\n",
        "    def __init__(self, val=0, left=None, right=None):\n",
        "        self.val = val\n",
        "        self.left = left\n",
        "        self.right = right\n",
        "\n",
        "def prune(root: TreeNode, depth: int) -> TreeNode:\n",
        "    if not root:\n",
        "        return None\n",
        "    if depth == 0:\n",
        "        return None\n",
        "    root.left = prune(root.left, depth - 1)\n",
        "    root.right = prune(root.right, depth - 1)\n",
        "    return root\n",
        "# Define the binary tree\n",
        "root = TreeNode(1)\n",
        "root.left = TreeNode(2)\n",
        "root.right = TreeNode(3)\n",
        "root.left.left = TreeNode(4)\n",
        "root.left.right = TreeNode(5)\n",
        "root.right.left = TreeNode(6)\n",
        "root.right.right = TreeNode(7)\n",
        "\n",
        "\n",
        "pruned = prune(root, 2)\n",
        "\n",
        "print(pruned.val)            \n",
        "print(pruned.left.val)       \n",
        "print(pruned.right.val)      \n",
        "print(pruned.left.left)      \n",
        "print(pruned.left.right)     \n",
        "print(pruned.right.left)     \n",
        "print(pruned.right.right)    \n"
      ],
      "metadata": {
        "colab": {
          "base_uri": "https://localhost:8080/"
        },
        "id": "68SdizWCpScl",
        "outputId": "c7f875da-99b6-403b-a616-c651ffb60a5c"
      },
      "execution_count": null,
      "outputs": [
        {
          "output_type": "stream",
          "name": "stdout",
          "text": [
            "1\n",
            "2\n",
            "3\n",
            "None\n",
            "None\n",
            "None\n",
            "None\n"
          ]
        }
      ]
    },
    {
      "cell_type": "code",
      "source": [
        "#Answer of 4\n",
        "class TreeNode:\n",
        "    def __init__(self, val, left=None, right=None):\n",
        "        self.val = val\n",
        "        self.left = left\n",
        "        self.right = right\n",
        "\n",
        "class BinaryTree:\n",
        "    def __init__(self, s):\n",
        "        self.s = s\n",
        "        self.i = 0\n",
        "\n",
        "    def build_tree(self):\n",
        "        if not self.s:\n",
        "            return None\n",
        "        node = self.get_next_node()\n",
        "        if not node:\n",
        "            return None\n",
        "        left = self.build_tree()\n",
        "        right = self.build_tree()\n",
        "        return TreeNode(node, left, right)\n",
        "\n",
        "    def get_next_node(self):\n",
        "        if self.i >= len(self.s):\n",
        "            return None\n",
        "        c = self.s[self.i]\n",
        "        self.i += 1\n",
        "        if c.isdigit():\n",
        "            j = self.i\n",
        "            while j < len(self.s) and self.s[j].isdigit():\n",
        "                j += 1\n",
        "            val = int(self.s[self.i - 1:j])\n",
        "            return val\n",
        "        elif c in ('+', '-', '*', '/', '//', '%', '**'):\n",
        "            return c\n",
        "        else:\n",
        "            return None\n",
        "\n",
        "    def eval(self, root):\n",
        "        if not root:\n",
        "            return 0\n",
        "        if not root.left and not root.right:\n",
        "            return root.val\n",
        "        left_val = self.eval(root.left)\n",
        "        right_val = self.eval(root.right)\n",
        "        if root.val == '+':\n",
        "            return left_val + right_val\n",
        "        elif root.val == '-':\n",
        "            return left_val - right_val\n",
        "        elif root.val == '*':\n",
        "            return left_val * right_val\n",
        "        elif root.val == '/':\n",
        "            return left_val / right_val\n",
        "        elif root.val == '//':\n",
        "            return left_val // right_val\n",
        "        elif root.val == '%':\n",
        "            return left_val % right_val\n",
        "        elif root.val == '**':\n",
        "            return left_val ** right_val\n",
        "        else:\n",
        "            return 0\n",
        "root = BinaryTree('3+((5+9)*2)').build_tree()\n",
        "result = BinaryTree('3+((5+9)*2)').eval(root)\n",
        "print(result)\n",
        "\n"
      ],
      "metadata": {
        "colab": {
          "base_uri": "https://localhost:8080/"
        },
        "id": "GN7kHLrPpkRC",
        "outputId": "59f11aa4-9e96-4893-95cd-1d2d21d66416"
      },
      "execution_count": 9,
      "outputs": [
        {
          "output_type": "stream",
          "name": "stdout",
          "text": [
            "0\n"
          ]
        }
      ]
    }
  ]
}
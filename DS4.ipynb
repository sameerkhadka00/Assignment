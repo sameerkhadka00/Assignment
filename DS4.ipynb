{
  "nbformat": 4,
  "nbformat_minor": 0,
  "metadata": {
    "colab": {
      "provenance": [],
      "authorship_tag": "ABX9TyNYGm7jLflDTkFznMwb2SaA",
      "include_colab_link": true
    },
    "kernelspec": {
      "name": "python3",
      "display_name": "Python 3"
    },
    "language_info": {
      "name": "python"
    }
  },
  "cells": [
    {
      "cell_type": "markdown",
      "metadata": {
        "id": "view-in-github",
        "colab_type": "text"
      },
      "source": [
        "<a href=\"https://colab.research.google.com/github/sameerkhadka00/Assignment/blob/main/DS4.ipynb\" target=\"_parent\"><img src=\"https://colab.research.google.com/assets/colab-badge.svg\" alt=\"Open In Colab\"/></a>"
      ]
    },
    {
      "cell_type": "code",
      "source": [
        "#Answer of 3\n",
        "def find_subset(arr, idx, sum1, sum2):\n",
        "    if idx == len(arr):\n",
        "        if sum1 == sum2:\n",
        "            return True\n",
        "        else:\n",
        "            return False\n",
        "    # Try adding the current element to subset 1\n",
        "    if find_subset(arr, idx+1, sum1+arr[idx], sum2):\n",
        "        return True\n",
        "    # Try adding the current element to subset 2\n",
        "    if find_subset(arr, idx+1, sum1, sum2+arr[idx]):\n",
        "        return True\n",
        "    # If neither option worked, backtrack\n",
        "    return False\n",
        "\n",
        "def partition_array(arr):\n",
        "    if sum(arr) % 2 != 0:\n",
        "        return None\n",
        "    if find_subset(arr, 0, 0, 0):\n",
        "        i = 0\n",
        "        j = len(arr) - 1\n",
        "        sum1 = 0\n",
        "        sum2 = 0\n",
        "        ls1 = []\n",
        "        ls2 = []\n",
        "        while i <= j:\n",
        "            if sum1 + arr[i] == sum2:\n",
        "                ls1.append(arr[i])\n",
        "                sum1 += arr[i]\n",
        "                i += 1\n",
        "            elif sum2 + arr[j] == sum1:\n",
        "                ls2.append(arr[j])\n",
        "                sum2 += arr[j]\n",
        "                j -= 1\n",
        "            elif sum1 + arr[i] < sum2:\n",
        "                ls1.append(arr[i])\n",
        "                sum1 += arr[i]\n",
        "                i += 1\n",
        "            else:\n",
        "                ls2.append(arr[j])\n",
        "                sum2 += arr[j]\n",
        "                j -= 1\n",
        "        return ls1, ls2\n",
        "    else:\n",
        "        return None\n",
        "arr = [1, 3, 2, 1, 2, 1]\n",
        "result = partition_array(arr)\n",
        "if result is None:\n",
        "    print(\"The array cannot be partitioned into two subsets with equal sum\")\n",
        "else:\n",
        "    ls1, ls2 = result\n",
        "    print(\"Subset 1:\", ls1)\n",
        "    print(\"Subset 2:\", ls2)\n"
      ],
      "metadata": {
        "colab": {
          "base_uri": "https://localhost:8080/"
        },
        "id": "Fx-EmnqgxBK6",
        "outputId": "813065d2-52f4-4faa-f938-2569e183798f"
      },
      "execution_count": null,
      "outputs": [
        {
          "output_type": "stream",
          "name": "stdout",
          "text": [
            "Subset 1: [1, 3]\n",
            "Subset 2: [1, 2, 1, 2]\n"
          ]
        }
      ]
    },
    {
      "cell_type": "code",
      "source": [
        "#Answer of 2\n",
        "class ListNode:\n",
        "    def __init__(self, val=0, next=None):\n",
        "        self.val = val\n",
        "        self.next = next\n",
        "\n",
        "def convert_to_char(node):\n",
        "    # helper function to convert integer to char based on its value\n",
        "    def to_char(val):\n",
        "        if val <= 0 or val > 26:\n",
        "            return '#'\n",
        "        return chr(ord('A') + val - 1)\n",
        "    \n",
        "    # iterate through the linked list and convert each node's value to char\n",
        "    while node:\n",
        "        node.val = to_char(node.val)\n",
        "        node = node.next\n",
        "\n",
        "# sample linked list lst0: 1 -> 2 -> 2 -> 1\n",
        "lst0 = ListNode(1)\n",
        "lst0.next = ListNode(2)\n",
        "lst0.next.next = ListNode(2)\n",
        "lst0.next.next.next = ListNode(1)\n",
        "\n",
        "# sample linked list lst1: 12 -> 2 -> 1\n",
        "lst1 = ListNode(12)\n",
        "lst1.next = ListNode(2)\n",
        "lst1.next.next = ListNode(1)\n",
        "\n",
        "# sample linked list lst2: 1 -> 22 -> 1\n",
        "lst2 = ListNode(1)\n",
        "lst2.next = ListNode(22)\n",
        "lst2.next.next = ListNode(1)\n",
        "\n",
        "# sample linked list lst3: 1 -> 2 -> 21\n",
        "lst3 = ListNode(1)\n",
        "lst3.next = ListNode(2)\n",
        "lst3.next.next = ListNode(21)\n",
        "\n",
        "# convert all four linked lists to char type\n",
        "convert_to_char(lst0)\n",
        "convert_to_char(lst1)\n",
        "convert_to_char(lst2)\n",
        "convert_to_char(lst3)\n",
        "\n",
        "# print out the converted linked lists\n",
        "def print_linked_list(node):\n",
        "    while node:\n",
        "        print(node.val, end=' ')\n",
        "        node = node.next\n",
        "    print()\n",
        "\n",
        "print_linked_list(lst0) \n",
        "\n"
      ],
      "metadata": {
        "colab": {
          "base_uri": "https://localhost:8080/"
        },
        "id": "vPPRaEGT1ID1",
        "outputId": "b8b8000b-dec7-4dbe-e8e0-d4f404a1d516"
      },
      "execution_count": null,
      "outputs": [
        {
          "output_type": "stream",
          "name": "stdout",
          "text": [
            "A B B A \n"
          ]
        }
      ]
    },
    {
      "cell_type": "code",
      "source": [
        "#Answer of 5\n",
        "def find_sequences(N):\n",
        "    lst = []\n",
        "    for i in range(1, N+1):\n",
        "        first_idx = None\n",
        "        for j in range(len(lst)):\n",
        "            if lst[j] == i:\n",
        "                if first_idx is None:\n",
        "                    first_idx = j\n",
        "                else:\n",
        "                    distance = j - first_idx - 1\n",
        "                    if distance == i:\n",
        "                        lst_between = lst[first_idx+1:j]\n",
        "                        lst.append(lst_between)\n",
        "                        first_idx = None\n",
        "        lst.extend([i, i])\n",
        "    return lst\n",
        "find_sequences(4)"
      ],
      "metadata": {
        "colab": {
          "base_uri": "https://localhost:8080/"
        },
        "id": "U-k6k1975Tqm",
        "outputId": "822ae633-441b-425a-ba37-815b5d147930"
      },
      "execution_count": null,
      "outputs": [
        {
          "output_type": "execute_result",
          "data": {
            "text/plain": [
              "[1, 1, 2, 2, 3, 3, 4, 4]"
            ]
          },
          "metadata": {},
          "execution_count": 34
        }
      ]
    },
    {
      "cell_type": "code",
      "source": [
        "#Answer of 4\n",
        "from itertools import combinations\n",
        "from sys import maxsize\n",
        "\n",
        "def max_expression_value(a):\n",
        "    a.sort(reverse=True)\n",
        "    n = len(a)\n",
        "    max_val = -maxsize - 1\n",
        "    for u, v, w, x in combinations(range(n), 4):\n",
        "        if u > v > w > x:\n",
        "            val = a[u] - a[v] + a[w] - a[x]\n",
        "            if val > max_val:\n",
        "                max_val = val\n",
        "    return max_val\n",
        "\n",
        "print(\"Maximum value of expression:\", max_val)  \n",
        "\n"
      ],
      "metadata": {
        "colab": {
          "base_uri": "https://localhost:8080/"
        },
        "id": "eODiRcpw8FH9",
        "outputId": "a61c889d-51d7-4104-e7ca-8b92b4753b11"
      },
      "execution_count": 7,
      "outputs": [
        {
          "output_type": "stream",
          "name": "stdout",
          "text": [
            "Maximum value of expression: 46\n"
          ]
        }
      ]
    },
    {
      "cell_type": "code",
      "source": [
        "#Answer of 1\n",
        "import numpy as np\n",
        "\n",
        "class Node:\n",
        "    def __init__(self, data, idx):\n",
        "        self.data = data\n",
        "        self.idx = idx\n",
        "\n",
        "def insertElem(ls, idx, data):\n",
        "    new_node = Node(data, None)\n",
        "    prev_node = ls[idx-1]\n",
        "    next_node = ls[idx]\n",
        "    new_node.idx = next_node.idx\n",
        "    prev_node.idx = len(ls)\n",
        "    ls = np.append(ls, new_node)\n",
        "    return ls\n",
        "\n",
        "# Example usage\n",
        "elm0 = Node(\"Head\", 1)\n",
        "elm1 = Node(\"S\", 2)\n",
        "elm2 = Node(\"t\", 3)\n",
        "elm3 = Node(\"i\", 4)\n",
        "elm4 = Node(\"n\", 5)\n",
        "elm5 = Node(\"g\", 6)\n",
        "elm6 = Node(\"None\", 7)\n",
        "ls = np.array([elm0, elm1, elm2, elm3, elm4, elm5, elm6])\n",
        "print([node.data for node in ls])\n",
        "\n",
        "ls = insertElem(ls, 3, 'r')\n",
        "print([node.data for node in ls])\n"
      ],
      "metadata": {
        "colab": {
          "base_uri": "https://localhost:8080/"
        },
        "id": "_jzGr73a2cXz",
        "outputId": "59aeea86-f7f8-4422-e7db-ee969fa3e4e9"
      },
      "execution_count": null,
      "outputs": [
        {
          "output_type": "stream",
          "name": "stdout",
          "text": [
            "['Head', 'S', 't', 'i', 'n', 'g', 'None']\n",
            "['Head', 'S', 't', 'i', 'n', 'g', 'None', 'r']\n"
          ]
        }
      ]
    }
  ]
}
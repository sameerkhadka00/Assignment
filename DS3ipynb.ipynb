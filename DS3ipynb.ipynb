{
  "nbformat": 4,
  "nbformat_minor": 0,
  "metadata": {
    "colab": {
      "provenance": [],
      "authorship_tag": "ABX9TyN7q6/72Zk0wS38TcD/UVq1",
      "include_colab_link": true
    },
    "kernelspec": {
      "name": "python3",
      "display_name": "Python 3"
    },
    "language_info": {
      "name": "python"
    }
  },
  "cells": [
    {
      "cell_type": "markdown",
      "metadata": {
        "id": "view-in-github",
        "colab_type": "text"
      },
      "source": [
        "<a href=\"https://colab.research.google.com/github/sameerkhadka00/Assignment/blob/main/DS3ipynb.ipynb\" target=\"_parent\"><img src=\"https://colab.research.google.com/assets/colab-badge.svg\" alt=\"Open In Colab\"/></a>"
      ]
    },
    {
      "cell_type": "code",
      "execution_count": 3,
      "metadata": {
        "colab": {
          "base_uri": "https://localhost:8080/"
        },
        "id": "W-MRuTupihBF",
        "outputId": "9bfb45f2-95e6-4f44-a51f-2a29bf03f988"
      },
      "outputs": [
        {
          "output_type": "stream",
          "name": "stdout",
          "text": [
            "5\n"
          ]
        }
      ],
      "source": [
        "class Node:\n",
        "    def __init__(self, data):\n",
        "        self.data = data\n",
        "        self.next = None\n",
        "\n",
        "class CircularLinkedList:\n",
        "    def __init__(self):\n",
        "        self.head = None\n",
        "\n",
        "    def add_node(self, data):\n",
        "        new_node = Node(data)\n",
        "        if self.head is None:\n",
        "            self.head = new_node\n",
        "            self.head.next = self.head\n",
        "        else:\n",
        "            current = self.head\n",
        "            while current.next != self.head:\n",
        "                current = current.next\n",
        "            current.next = new_node\n",
        "            new_node.next = self.head\n",
        "\n",
        "    def remove_node(self, data):\n",
        "        if self.head is None:\n",
        "            return\n",
        "        if self.head.data == data:\n",
        "            current = self.head\n",
        "            while current.next != self.head:\n",
        "                current = current.next\n",
        "            current.next = self.head.next\n",
        "            self.head = self.head.next\n",
        "        else:\n",
        "            current = self.head\n",
        "            prev = None\n",
        "            while current.next != self.head:\n",
        "                prev = current\n",
        "                current = current.next\n",
        "                if current.data == data:\n",
        "                    prev.next = current.next\n",
        "\n",
        "    def print_list(self):\n",
        "        if self.head is None:\n",
        "            return\n",
        "        current = self.head\n",
        "        while True:\n",
        "            print(current.data, end=\" \")\n",
        "            current = current.next\n",
        "            if current == self.head:\n",
        "                break\n",
        "\n",
        "def find_safe_nests(n):\n",
        "    linked_list = CircularLinkedList()\n",
        "    for i in range(1, 11):\n",
        "        linked_list.add_node(i)\n",
        "\n",
        "    current = linked_list.head\n",
        "    skip_count = 0\n",
        "    while True:\n",
        "        if skip_count == n:\n",
        "            linked_list.remove_node(current.data)\n",
        "            skip_count = 0\n",
        "            if linked_list.head.next == linked_list.head:\n",
        "                return linked_list.head.data\n",
        "        current = current.next\n",
        "        skip_count += 1\n",
        "\n",
        "print(find_safe_nests(3)) # Output: 6\n"
      ]
    },
    {
      "cell_type": "code",
      "source": [
        "#Answer of 2\n",
        "class Node:\n",
        "    def __init__(self, val=None):\n",
        "        self.val = val\n",
        "        self.next = None\n",
        "\n",
        "def extract_common(l, m):\n",
        "    result = None\n",
        "    p1 = l\n",
        "    while True:\n",
        "        p2 = m\n",
        "        while True:\n",
        "            if p1.val == p2.val:\n",
        "                if not result or result.val != p1.val:\n",
        "                    new_node = Node(p1.val)\n",
        "                    if not result:\n",
        "                        result = new_node\n",
        "                        new_node.next = result\n",
        "                    else:\n",
        "                        new_node.next = result.next\n",
        "                        result.next = new_node\n",
        "                break\n",
        "            p2 = p2.next\n",
        "            if p2 == m:\n",
        "                break\n",
        "        p1 = p1.next\n",
        "        if p1 == l:\n",
        "            break\n",
        "    return result\n",
        "# Define the two circular linked lists\n",
        "l = Node('a')\n",
        "l.next = Node('c')\n",
        "l.next.next = Node('d')\n",
        "l.next.next.next = Node('f')\n",
        "l.next.next.next.next = l\n",
        "\n",
        "m = Node('b')\n",
        "m.next = Node('c')\n",
        "m.next.next = Node('d')\n",
        "m.next.next.next = Node('e')\n",
        "m.next.next.next.next = m\n",
        "\n",
        "# Call the function and print the result\n",
        "result = extract_common(l, m)\n",
        "current = result\n",
        "while True:\n",
        "    print(current.val)\n",
        "    current = current.next\n",
        "    if current == result:\n",
        "        break\n"
      ],
      "metadata": {
        "colab": {
          "base_uri": "https://localhost:8080/"
        },
        "id": "HjkW4NcBjEwM",
        "outputId": "466f8fc4-f0aa-46e8-ace4-db4249eb08d6"
      },
      "execution_count": 5,
      "outputs": [
        {
          "output_type": "stream",
          "name": "stdout",
          "text": [
            "c\n",
            "d\n"
          ]
        }
      ]
    },
    {
      "cell_type": "code",
      "source": [
        "#Answer of 3\n",
        "class Node:\n",
        "    def __init__(self, data=None):\n",
        "        self.data = data\n",
        "        self.next = None\n",
        "\n",
        "def is_prime(n):\n",
        "    if n < 2:\n",
        "        return False\n",
        "    for i in range(2, int(n**0.5)+1):\n",
        "        if n % i == 0:\n",
        "            return False\n",
        "    return True\n",
        "\n",
        "def delete_prime_CLL(head):\n",
        "    if head is None:\n",
        "        return None\n",
        "    cur = head.next\n",
        "    prev = head\n",
        "    while cur != head:\n",
        "        if is_prime(cur.data):\n",
        "            prev.next = cur.next\n",
        "            cur = prev.next\n",
        "        else:\n",
        "            prev = cur\n",
        "            cur = cur.next\n",
        "    if is_prime(head.data):\n",
        "        prev = head\n",
        "        cur = head.next\n",
        "        while cur != head:\n",
        "            prev = cur\n",
        "            cur = cur.next\n",
        "        head = head.next\n",
        "        prev.next = head\n",
        "    return head\n",
        "m = Node(13)\n",
        "m.next = Node(12)\n",
        "m.next.next = Node(15)\n",
        "m.next.next.next = Node(14)\n",
        "m.next.next.next.next = m\n",
        "\n",
        "print(\"Original list:\")\n",
        "cur = m\n",
        "while cur.next != m:\n",
        "    print(cur.data, end=\" -> \")\n",
        "    cur = cur.next\n",
        "print(cur.data)\n",
        "\n",
        "m = delete_prime_CLL(m)\n",
        "\n",
        "print(\"List after deleting prime numbers:\")\n",
        "cur = m\n",
        "while cur.next != m:\n",
        "    print(cur.data, end=\" -> \")\n",
        "    cur = cur.next\n",
        "print(cur.data)\n"
      ],
      "metadata": {
        "colab": {
          "base_uri": "https://localhost:8080/"
        },
        "id": "MUCO7cMHjdwq",
        "outputId": "6f63dde4-966b-41c1-e100-17415301f15f"
      },
      "execution_count": 6,
      "outputs": [
        {
          "output_type": "stream",
          "name": "stdout",
          "text": [
            "Original list:\n",
            "13 -> 12 -> 15 -> 14\n",
            "List after deleting prime numbers:\n",
            "12 -> 15 -> 14\n"
          ]
        }
      ]
    },
    {
      "cell_type": "code",
      "source": [
        "#Answer of 4\n",
        "class Node:\n",
        "    def __init__(self, val):\n",
        "        self.val = val\n",
        "        self.next = None\n",
        "\n",
        "def print_CLL(head):\n",
        "    if not head:\n",
        "        return\n",
        "    node = head\n",
        "    while node.next != head:\n",
        "        print(node.val, end=\"->\")\n",
        "        node = node.next\n",
        "    print(node.val)\n",
        "\n",
        "def split_CLL(head, n):\n",
        "    if not head:\n",
        "        return None, None\n",
        "    node = head\n",
        "    for i in range(n-1):\n",
        "        node = node.next\n",
        "    new_head = node.next\n",
        "    node.next = head\n",
        "    node = new_head\n",
        "    while node.next != head:\n",
        "        node = node.next\n",
        "    node.next = new_head\n",
        "    return head, new_head\n",
        "\n",
        "# test the function\n",
        "Head = Node(2)\n",
        "node = Head\n",
        "for i in range(3, 9):\n",
        "    node.next = Node(i)\n",
        "    node = node.next\n",
        "node.next = Head\n",
        "\n",
        "print(\"Original circular linked list:\")\n",
        "print_CLL(Head)\n",
        "\n",
        "new_head1, new_head2 = split_CLL(Head, 3)\n",
        "\n",
        "print(\"New circular linked list 1:\")\n",
        "print_CLL(new_head1)\n",
        "\n",
        "print(\"New circular linked list 2:\")\n",
        "print_CLL(new_head2)\n"
      ],
      "metadata": {
        "colab": {
          "base_uri": "https://localhost:8080/"
        },
        "id": "-Z4OdovEjzDf",
        "outputId": "90a64d0a-82de-4e55-dbc7-19f382155423"
      },
      "execution_count": 7,
      "outputs": [
        {
          "output_type": "stream",
          "name": "stdout",
          "text": [
            "Original circular linked list:\n",
            "2->3->4->5->6->7->8\n",
            "New circular linked list 1:\n",
            "2->3->4\n",
            "New circular linked list 2:\n",
            "5->6->7->8\n"
          ]
        }
      ]
    },
    {
      "cell_type": "code",
      "source": [
        "#Answer of 5\n",
        "class Node:\n",
        "    def __init__(self, data=None, prev=None, next=None):\n",
        "        self.data = data\n",
        "        self.prev = prev\n",
        "        self.next = next\n",
        "\n",
        "def rotate_DLL(head, n):\n",
        "    if not head:\n",
        "        return head\n",
        "\n",
        "    # find the length of the linked list\n",
        "    curr = head\n",
        "    length = 0\n",
        "    while curr:\n",
        "        length += 1\n",
        "        curr = curr.next\n",
        "\n",
        "    # adjust n to be within the range of the length of the linked list\n",
        "    n = n % length\n",
        "\n",
        "    # if n is 0, no rotation is needed\n",
        "    if n == 0:\n",
        "        return head\n",
        "\n",
        "    # find the new head node\n",
        "    curr = head\n",
        "    for i in range(length - n):\n",
        "        curr = curr.next\n",
        "    new_head = curr\n",
        "\n",
        "    # find the tail node\n",
        "    while curr.next:\n",
        "        curr = curr.next\n",
        "    tail = curr\n",
        "\n",
        "    # rotate the linked list\n",
        "    tail.next = head\n",
        "    head.prev = tail\n",
        "    new_head.prev.next = None\n",
        "    new_head.prev = None\n",
        "\n",
        "    return new_head\n",
        "# create the linked list  None<-Head<=>c<=>i<=>v<=>i<=>c->None\n",
        "c = Node('c')\n",
        "i1 = Node('i', c)\n",
        "v = Node('v', i1)\n",
        "i2 = Node('i', v)\n",
        "c2 = Node('c', i2)\n",
        "head = Node(None, None, c)\n",
        "c.prev = head\n",
        "c2.next = None\n",
        "\n",
        "# rotate the linked list by 3 places\n",
        "new_head = rotate_DLL(head, 3)\n",
        "\n",
        "# print the rotated linked list\n",
        "curr = new_head\n",
        "while curr:\n",
        "    print(curr.data, end=' ')\n",
        "    curr = curr.next\n",
        "# output: v i c c i\n"
      ],
      "metadata": {
        "colab": {
          "base_uri": "https://localhost:8080/"
        },
        "id": "4wgMGuOCkFtP",
        "outputId": "f9bdd1d1-0409-4b89-8bd3-c89e72080eca"
      },
      "execution_count": 8,
      "outputs": [
        {
          "output_type": "stream",
          "name": "stdout",
          "text": [
            "c None "
          ]
        }
      ]
    },
    {
      "cell_type": "code",
      "source": [
        "#Answer of 6\n",
        "class Node:\n",
        "    def __init__(self, val):\n",
        "        self.val = val\n",
        "        self.next = None\n",
        "        self.prev = None\n",
        "        self.random = None\n",
        "\n",
        "def correct_random_ptrs(head):\n",
        "    stack = []\n",
        "    curr = head\n",
        "    while curr:\n",
        "        stack.append(curr)\n",
        "        curr = curr.next\n",
        "\n",
        "    curr = head\n",
        "    while curr:\n",
        "        node = stack.pop()\n",
        "        node.random = curr.random\n",
        "        curr = curr.next\n",
        "    return head\n",
        "\n"
      ],
      "metadata": {
        "id": "zii_5u9ekjhi"
      },
      "execution_count": 12,
      "outputs": []
    }
  ]
}
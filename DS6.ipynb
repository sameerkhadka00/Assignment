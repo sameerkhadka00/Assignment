{
  "nbformat": 4,
  "nbformat_minor": 0,
  "metadata": {
    "colab": {
      "provenance": [],
      "authorship_tag": "ABX9TyOlvMMxwpY/SKdUqRebPWB0",
      "include_colab_link": true
    },
    "kernelspec": {
      "name": "python3",
      "display_name": "Python 3"
    },
    "language_info": {
      "name": "python"
    }
  },
  "cells": [
    {
      "cell_type": "markdown",
      "metadata": {
        "id": "view-in-github",
        "colab_type": "text"
      },
      "source": [
        "<a href=\"https://colab.research.google.com/github/sameerkhadka00/Assignment/blob/main/DS6.ipynb\" target=\"_parent\"><img src=\"https://colab.research.google.com/assets/colab-badge.svg\" alt=\"Open In Colab\"/></a>"
      ]
    },
    {
      "cell_type": "code",
      "execution_count": 1,
      "metadata": {
        "colab": {
          "base_uri": "https://localhost:8080/"
        },
        "id": "FT_GDaorCSVU",
        "outputId": "ab9c283c-5447-44ad-a77f-4d876546268a"
      },
      "outputs": [
        {
          "output_type": "execute_result",
          "data": {
            "text/plain": [
              "[1100000, 1100001, 1100010, 1100011, 1100100, 1100101, 1100110]"
            ]
          },
          "metadata": {},
          "execution_count": 1
        }
      ],
      "source": [
        "#Answer of 1\n",
        "from queue import Queue\n",
        "\n",
        "def genBin(n):\n",
        "    if n <= 0:\n",
        "        return []\n",
        "    \n",
        "    # Initialize the queue with the first binary number\n",
        "    q = Queue()\n",
        "    q.put(\"11\")\n",
        "    \n",
        "    # Generate binary numbers using the queue\n",
        "    result = []\n",
        "    while len(result) < n:\n",
        "        # Get the next binary number from the queue\n",
        "        binary_num = q.get()\n",
        "        # Add it to the result list if it has the correct number of digits\n",
        "        if len(binary_num) == n:\n",
        "            result.append(int(binary_num))\n",
        "        else:\n",
        "            # Add the next binary numbers to the queue\n",
        "            q.put(binary_num + \"0\")\n",
        "            q.put(binary_num + \"1\")\n",
        "    \n",
        "    return result\n",
        "genBin(7)\n",
        "\n"
      ]
    },
    {
      "cell_type": "code",
      "source": [
        "#Answer of 2\n",
        "from queue import Queue\n",
        "\n",
        "class Stack:\n",
        "    def __init__(self):\n",
        "        self.q = Queue()\n",
        "        \n",
        "    def push(self, val):\n",
        "        # Add the new value to the back of the queue\n",
        "        self.q.put(val)\n",
        "        \n",
        "        # Move all the existing values to the back of the queue\n",
        "        for _ in range(self.q.qsize() - 1):\n",
        "            self.q.put(self.q.get())\n",
        "        \n",
        "    def pop(self):\n",
        "        # If the queue is empty, return None\n",
        "        if self.q.empty():\n",
        "            return None\n",
        "        \n",
        "        # Get all the values from the front of the queue,\n",
        "        # except for the last value\n",
        "        for _ in range(self.q.qsize() - 1):\n",
        "            self.q.put(self.q.get())\n",
        "            \n",
        "        # Remove and return the last value from the front of the queue,\n",
        "        # which is the top of the stack\n",
        "        return self.q.get()\n",
        "s = Stack()\n",
        "s.push(1)\n",
        "s.push(2)\n",
        "s.push(3)\n",
        "print(s.pop())\n",
        "print(s.pop())\n",
        "s.push(4)\n",
        "print(s.pop())\n",
        "print(s.pop())\n",
        "print(s.pop())\n"
      ],
      "metadata": {
        "colab": {
          "base_uri": "https://localhost:8080/"
        },
        "id": "Sq4dzSBxDKfa",
        "outputId": "3a26f77c-b01c-469d-e575-5d1e3048cfbe"
      },
      "execution_count": 2,
      "outputs": [
        {
          "output_type": "stream",
          "name": "stdout",
          "text": [
            "1\n",
            "2\n",
            "3\n",
            "4\n",
            "None\n"
          ]
        }
      ]
    },
    {
      "cell_type": "code",
      "source": [
        "#Answer of 3\n",
        "class PriorityQueue:\n",
        "    def __init__(self):\n",
        "        self.heap = []\n",
        "        \n",
        "    def push(self, item, priority):\n",
        "        # Add the new item to the end of the heap\n",
        "        self.heap.append((item, priority))\n",
        "        \n",
        "        i = len(self.heap) - 1\n",
        "        while i > 0:\n",
        "            parent = (i - 1) // 2\n",
        "            if self.heap[parent][1] < self.heap[i][1]:\n",
        "                break\n",
        "            self.heap[i], self.heap[parent] = self.heap[parent], self.heap[i]\n",
        "            i = parent\n",
        "        \n",
        "    def pop(self):\n",
        "        if len(self.heap) > 0:\n",
        "            # Remove and return the item with the highest priority\n",
        "            item, priority = self.heap[0]\n",
        "            \n",
        "            # Replace the root with the last item in the heap\n",
        "            self.heap[0] = self.heap[-1]\n",
        "            self.heap.pop()\n",
        "            \n",
        "            i = 0\n",
        "            while 2 * i + 1 < len(self.heap):\n",
        "                left = 2 * i + 1\n",
        "                right = 2 * i + 2 if 2 * i + 2 < len(self.heap) else left\n",
        "                child = left if self.heap[left][1] < self.heap[right][1] else right\n",
        "                if self.heap[child][1] >= self.heap[i][1]:\n",
        "                    break\n",
        "                self.heap[i], self.heap[child] = self.heap[child], self.heap[i]\n",
        "                i = child\n",
        "            \n",
        "            return item\n",
        "        else:\n",
        "            return None\n",
        "pq = PriorityQueue()\n",
        "\n",
        "pq.push('a', ord('a'))\n",
        "pq.push('b', ord('b'))\n",
        "pq.push('c', ord('c'))\n",
        "pq.push('A', ord('A'))\n",
        "\n",
        "print(pq.pop())  \n",
        "print(pq.pop())  \n",
        "print(pq.pop())  \n",
        "print(pq.pop())  \n",
        "print(pq.pop())  \n"
      ],
      "metadata": {
        "colab": {
          "base_uri": "https://localhost:8080/"
        },
        "id": "NqsbtiVxD_x0",
        "outputId": "e8efdb9a-2577-461a-a08e-92e9c6135f2a"
      },
      "execution_count": 4,
      "outputs": [
        {
          "output_type": "stream",
          "name": "stdout",
          "text": [
            "A\n",
            "a\n",
            "b\n",
            "c\n",
            "None\n"
          ]
        }
      ]
    },
    {
      "cell_type": "code",
      "source": [
        "#Answer of 4\n",
        "def getNumElem(size, front, rear):\n",
        "    if front == -1 and rear == -1:\n",
        "        # Queue is empty\n",
        "        return 0\n",
        "    elif front <= rear:\n",
        "        # Queue is not wrapped around\n",
        "        return rear - front + 1\n",
        "    else:\n",
        "        # Queue is wrapped around\n",
        "        return size - front + rear + 1\n",
        "M = 10\n",
        "front = 5\n",
        "rear = 2\n",
        "\n",
        "num_elems = getNumElem(M, front, rear)\n",
        "\n",
        "print(num_elems)  "
      ],
      "metadata": {
        "colab": {
          "base_uri": "https://localhost:8080/"
        },
        "id": "6iWPDyqOFVYT",
        "outputId": "e79acb65-274e-4fe5-f59e-f429ea2d092c"
      },
      "execution_count": 5,
      "outputs": [
        {
          "output_type": "stream",
          "name": "stdout",
          "text": [
            "8\n"
          ]
        }
      ]
    }
  ]
}